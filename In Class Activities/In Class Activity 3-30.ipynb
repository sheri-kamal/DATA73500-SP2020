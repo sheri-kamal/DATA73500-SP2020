{
 "cells": [
  {
   "cell_type": "markdown",
   "metadata": {},
   "source": [
    "# Sheridan Kamal\n",
    "\n",
    "## DATA 73500 - In Class Activity 3/30/20"
   ]
  },
  {
   "cell_type": "code",
   "execution_count": 1,
   "metadata": {},
   "outputs": [],
   "source": [
    "import warnings\n",
    "warnings.filterwarnings(\"ignore\")\n",
    "\n",
    "import pandas as pd\n",
    "import numpy as np\n",
    "import statsmodels.api as sm\n",
    "import seaborn as sb\n",
    "import twitter as tw\n",
    "import json\n",
    "import math\n",
    "import collections as cl\n",
    "import matplotlib.pyplot as plt\n",
    "import twitter as tw"
   ]
  },
  {
   "cell_type": "code",
   "execution_count": 2,
   "metadata": {},
   "outputs": [],
   "source": [
    "CONSUMER_KEY = 'GDzHFRHpXG8GmazEa686SWrW8'\n",
    "CONSUMER_SECRET = 'ugtGSyqQZWLxehCCJu7fBQxPquWai1grAaPVANeOC0EMZSUvF1'\n",
    "OAUTH_TOKEN = '62099456-hWeDi3BLYTm6is402uqrMYUcdhZJD2DmVpUfDdiAw'\n",
    "OAUTH_TOKEN_SECRET = 'nvys4S2sORvS13iWbQhW2QRZ5KXaJze5u8T5UlJVhdJkT'\n",
    "\n",
    "auth = tw.oauth.OAuth(OAUTH_TOKEN, OAUTH_TOKEN_SECRET,\n",
    "                           CONSUMER_KEY, CONSUMER_SECRET)\n",
    "\n",
    "twitter_api = tw.Twitter(auth=auth)"
   ]
  },
  {
   "cell_type": "code",
   "execution_count": 3,
   "metadata": {},
   "outputs": [
    {
     "data": {
      "text/html": [
       "<div>\n",
       "<style scoped>\n",
       "    .dataframe tbody tr th:only-of-type {\n",
       "        vertical-align: middle;\n",
       "    }\n",
       "\n",
       "    .dataframe tbody tr th {\n",
       "        vertical-align: top;\n",
       "    }\n",
       "\n",
       "    .dataframe thead th {\n",
       "        text-align: right;\n",
       "    }\n",
       "</style>\n",
       "<table border=\"1\" class=\"dataframe\">\n",
       "  <thead>\n",
       "    <tr style=\"text-align: right;\">\n",
       "      <th></th>\n",
       "      <th>created_at</th>\n",
       "      <th>id</th>\n",
       "      <th>id_str</th>\n",
       "      <th>text</th>\n",
       "      <th>truncated</th>\n",
       "      <th>entities</th>\n",
       "      <th>extended_entities</th>\n",
       "      <th>metadata</th>\n",
       "      <th>source</th>\n",
       "      <th>in_reply_to_status_id</th>\n",
       "      <th>...</th>\n",
       "      <th>is_quote_status</th>\n",
       "      <th>retweet_count</th>\n",
       "      <th>favorite_count</th>\n",
       "      <th>favorited</th>\n",
       "      <th>retweeted</th>\n",
       "      <th>possibly_sensitive</th>\n",
       "      <th>lang</th>\n",
       "      <th>quoted_status_id</th>\n",
       "      <th>quoted_status_id_str</th>\n",
       "      <th>quoted_status</th>\n",
       "    </tr>\n",
       "  </thead>\n",
       "  <tbody>\n",
       "    <tr>\n",
       "      <th>0</th>\n",
       "      <td>2020-05-13 02:44:22+00:00</td>\n",
       "      <td>1260400466212655110</td>\n",
       "      <td>1260400466212655104</td>\n",
       "      <td>RT @HunterPSCCUNY: #austeritykills #CutCOVIDNo...</td>\n",
       "      <td>False</td>\n",
       "      <td>{'hashtags': [{'text': 'austeritykills', 'indi...</td>\n",
       "      <td>{'media': [{'id': 1260399775507234816, 'id_str...</td>\n",
       "      <td>{'iso_language_code': 'en', 'result_type': 're...</td>\n",
       "      <td>&lt;a href=\"https://mobile.twitter.com\" rel=\"nofo...</td>\n",
       "      <td>NaN</td>\n",
       "      <td>...</td>\n",
       "      <td>False</td>\n",
       "      <td>1</td>\n",
       "      <td>0</td>\n",
       "      <td>False</td>\n",
       "      <td>False</td>\n",
       "      <td>0.0</td>\n",
       "      <td>en</td>\n",
       "      <td>NaN</td>\n",
       "      <td>NaN</td>\n",
       "      <td>NaN</td>\n",
       "    </tr>\n",
       "    <tr>\n",
       "      <th>1</th>\n",
       "      <td>2020-05-13 02:43:42+00:00</td>\n",
       "      <td>1260400297958150145</td>\n",
       "      <td>1260400297958150144</td>\n",
       "      <td>#austeritykills #CutCOVIDNotCUNY \\nthank you A...</td>\n",
       "      <td>False</td>\n",
       "      <td>{'hashtags': [{'text': 'austeritykills', 'indi...</td>\n",
       "      <td>{'media': [{'id': 1260399775507234816, 'id_str...</td>\n",
       "      <td>{'iso_language_code': 'en', 'result_type': 're...</td>\n",
       "      <td>&lt;a href=\"https://mobile.twitter.com\" rel=\"nofo...</td>\n",
       "      <td>NaN</td>\n",
       "      <td>...</td>\n",
       "      <td>False</td>\n",
       "      <td>1</td>\n",
       "      <td>1</td>\n",
       "      <td>False</td>\n",
       "      <td>False</td>\n",
       "      <td>0.0</td>\n",
       "      <td>en</td>\n",
       "      <td>NaN</td>\n",
       "      <td>NaN</td>\n",
       "      <td>NaN</td>\n",
       "    </tr>\n",
       "    <tr>\n",
       "      <th>2</th>\n",
       "      <td>2020-05-13 02:32:44+00:00</td>\n",
       "      <td>1260397535006461953</td>\n",
       "      <td>1260397535006461952</td>\n",
       "      <td>@gyrizar Please corroborate. #CUNY \\nhttps://t...</td>\n",
       "      <td>False</td>\n",
       "      <td>{'hashtags': [{'text': 'CUNY', 'indices': [29,...</td>\n",
       "      <td>{'media': [{'id': 1260397368182280199, 'id_str...</td>\n",
       "      <td>{'iso_language_code': 'en', 'result_type': 're...</td>\n",
       "      <td>&lt;a href=\"https://mobile.twitter.com\" rel=\"nofo...</td>\n",
       "      <td>NaN</td>\n",
       "      <td>...</td>\n",
       "      <td>False</td>\n",
       "      <td>0</td>\n",
       "      <td>0</td>\n",
       "      <td>False</td>\n",
       "      <td>False</td>\n",
       "      <td>0.0</td>\n",
       "      <td>en</td>\n",
       "      <td>NaN</td>\n",
       "      <td>NaN</td>\n",
       "      <td>NaN</td>\n",
       "    </tr>\n",
       "    <tr>\n",
       "      <th>3</th>\n",
       "      <td>2020-05-13 02:28:22+00:00</td>\n",
       "      <td>1260396437910716422</td>\n",
       "      <td>1260396437910716416</td>\n",
       "      <td>@studentactivism yeah, imagining our basement ...</td>\n",
       "      <td>True</td>\n",
       "      <td>{'hashtags': [], 'symbols': [], 'user_mentions...</td>\n",
       "      <td>NaN</td>\n",
       "      <td>{'iso_language_code': 'en', 'result_type': 're...</td>\n",
       "      <td>&lt;a href=\"https://about.twitter.com/products/tw...</td>\n",
       "      <td>1.260396e+18</td>\n",
       "      <td>...</td>\n",
       "      <td>False</td>\n",
       "      <td>0</td>\n",
       "      <td>0</td>\n",
       "      <td>False</td>\n",
       "      <td>False</td>\n",
       "      <td>NaN</td>\n",
       "      <td>en</td>\n",
       "      <td>NaN</td>\n",
       "      <td>NaN</td>\n",
       "      <td>NaN</td>\n",
       "    </tr>\n",
       "    <tr>\n",
       "      <th>4</th>\n",
       "      <td>2020-05-13 02:18:34+00:00</td>\n",
       "      <td>1260393973354463233</td>\n",
       "      <td>1260393973354463232</td>\n",
       "      <td>Hello Everyone 🌼, enjoy Lehman student meals d...</td>\n",
       "      <td>True</td>\n",
       "      <td>{'hashtags': [], 'symbols': [], 'user_mentions...</td>\n",
       "      <td>NaN</td>\n",
       "      <td>{'iso_language_code': 'en', 'result_type': 're...</td>\n",
       "      <td>&lt;a href=\"http://instagram.com\" rel=\"nofollow\"&gt;...</td>\n",
       "      <td>NaN</td>\n",
       "      <td>...</td>\n",
       "      <td>False</td>\n",
       "      <td>0</td>\n",
       "      <td>0</td>\n",
       "      <td>False</td>\n",
       "      <td>False</td>\n",
       "      <td>0.0</td>\n",
       "      <td>en</td>\n",
       "      <td>NaN</td>\n",
       "      <td>NaN</td>\n",
       "      <td>NaN</td>\n",
       "    </tr>\n",
       "  </tbody>\n",
       "</table>\n",
       "<p>5 rows × 30 columns</p>\n",
       "</div>"
      ],
      "text/plain": [
       "                 created_at                   id               id_str  \\\n",
       "0 2020-05-13 02:44:22+00:00  1260400466212655110  1260400466212655104   \n",
       "1 2020-05-13 02:43:42+00:00  1260400297958150145  1260400297958150144   \n",
       "2 2020-05-13 02:32:44+00:00  1260397535006461953  1260397535006461952   \n",
       "3 2020-05-13 02:28:22+00:00  1260396437910716422  1260396437910716416   \n",
       "4 2020-05-13 02:18:34+00:00  1260393973354463233  1260393973354463232   \n",
       "\n",
       "                                                text  truncated  \\\n",
       "0  RT @HunterPSCCUNY: #austeritykills #CutCOVIDNo...      False   \n",
       "1  #austeritykills #CutCOVIDNotCUNY \\nthank you A...      False   \n",
       "2  @gyrizar Please corroborate. #CUNY \\nhttps://t...      False   \n",
       "3  @studentactivism yeah, imagining our basement ...       True   \n",
       "4  Hello Everyone 🌼, enjoy Lehman student meals d...       True   \n",
       "\n",
       "                                            entities  \\\n",
       "0  {'hashtags': [{'text': 'austeritykills', 'indi...   \n",
       "1  {'hashtags': [{'text': 'austeritykills', 'indi...   \n",
       "2  {'hashtags': [{'text': 'CUNY', 'indices': [29,...   \n",
       "3  {'hashtags': [], 'symbols': [], 'user_mentions...   \n",
       "4  {'hashtags': [], 'symbols': [], 'user_mentions...   \n",
       "\n",
       "                                   extended_entities  \\\n",
       "0  {'media': [{'id': 1260399775507234816, 'id_str...   \n",
       "1  {'media': [{'id': 1260399775507234816, 'id_str...   \n",
       "2  {'media': [{'id': 1260397368182280199, 'id_str...   \n",
       "3                                                NaN   \n",
       "4                                                NaN   \n",
       "\n",
       "                                            metadata  \\\n",
       "0  {'iso_language_code': 'en', 'result_type': 're...   \n",
       "1  {'iso_language_code': 'en', 'result_type': 're...   \n",
       "2  {'iso_language_code': 'en', 'result_type': 're...   \n",
       "3  {'iso_language_code': 'en', 'result_type': 're...   \n",
       "4  {'iso_language_code': 'en', 'result_type': 're...   \n",
       "\n",
       "                                              source  in_reply_to_status_id  \\\n",
       "0  <a href=\"https://mobile.twitter.com\" rel=\"nofo...                    NaN   \n",
       "1  <a href=\"https://mobile.twitter.com\" rel=\"nofo...                    NaN   \n",
       "2  <a href=\"https://mobile.twitter.com\" rel=\"nofo...                    NaN   \n",
       "3  <a href=\"https://about.twitter.com/products/tw...           1.260396e+18   \n",
       "4  <a href=\"http://instagram.com\" rel=\"nofollow\">...                    NaN   \n",
       "\n",
       "   ...  is_quote_status  retweet_count  favorite_count favorited retweeted  \\\n",
       "0  ...            False              1               0     False     False   \n",
       "1  ...            False              1               1     False     False   \n",
       "2  ...            False              0               0     False     False   \n",
       "3  ...            False              0               0     False     False   \n",
       "4  ...            False              0               0     False     False   \n",
       "\n",
       "   possibly_sensitive  lang quoted_status_id  quoted_status_id_str  \\\n",
       "0                 0.0    en              NaN                   NaN   \n",
       "1                 0.0    en              NaN                   NaN   \n",
       "2                 0.0    en              NaN                   NaN   \n",
       "3                 NaN    en              NaN                   NaN   \n",
       "4                 0.0    en              NaN                   NaN   \n",
       "\n",
       "  quoted_status  \n",
       "0           NaN  \n",
       "1           NaN  \n",
       "2           NaN  \n",
       "3           NaN  \n",
       "4           NaN  \n",
       "\n",
       "[5 rows x 30 columns]"
      ]
     },
     "execution_count": 3,
     "metadata": {},
     "output_type": "execute_result"
    }
   ],
   "source": [
    "htag = '%23CUNY'\n",
    "n = 25000\n",
    "cuny = twitter_api.search.tweets(q=htag, count=n)\n",
    "cuny_statuses = cuny['statuses']\n",
    "cuny_df = pd.read_json(json.dumps(cuny_statuses))\n",
    "cuny_df.head()"
   ]
  },
  {
   "cell_type": "code",
   "execution_count": 4,
   "metadata": {},
   "outputs": [
    {
     "data": {
      "text/plain": [
       "Index(['created_at', 'id', 'id_str', 'text', 'truncated', 'entities',\n",
       "       'extended_entities', 'metadata', 'source', 'in_reply_to_status_id',\n",
       "       'in_reply_to_status_id_str', 'in_reply_to_user_id',\n",
       "       'in_reply_to_user_id_str', 'in_reply_to_screen_name', 'user', 'geo',\n",
       "       'coordinates', 'place', 'contributors', 'retweeted_status',\n",
       "       'is_quote_status', 'retweet_count', 'favorite_count', 'favorited',\n",
       "       'retweeted', 'possibly_sensitive', 'lang', 'quoted_status_id',\n",
       "       'quoted_status_id_str', 'quoted_status'],\n",
       "      dtype='object')"
      ]
     },
     "execution_count": 4,
     "metadata": {},
     "output_type": "execute_result"
    }
   ],
   "source": [
    "cuny_df.columns"
   ]
  },
  {
   "cell_type": "code",
   "execution_count": 5,
   "metadata": {},
   "outputs": [
    {
     "data": {
      "text/plain": [
       "count    100.000000\n",
       "mean       1.620000\n",
       "std        1.790999\n",
       "min        0.000000\n",
       "25%        0.000000\n",
       "50%        1.000000\n",
       "75%        2.000000\n",
       "max       10.000000\n",
       "Name: retweet_count, dtype: float64"
      ]
     },
     "execution_count": 5,
     "metadata": {},
     "output_type": "execute_result"
    }
   ],
   "source": [
    "cuny_df['retweet_count'].describe()"
   ]
  },
  {
   "cell_type": "code",
   "execution_count": 6,
   "metadata": {},
   "outputs": [
    {
     "data": {
      "text/plain": [
       "<matplotlib.axes._subplots.AxesSubplot at 0x1cd9f0fa948>"
      ]
     },
     "execution_count": 6,
     "metadata": {},
     "output_type": "execute_result"
    },
    {
     "data": {
      "image/png": "[encoded data removed]",
      "text/plain": [
       "<Figure size 432x288 with 1 Axes>"
      ]
     },
     "metadata": {
      "needs_background": "light"
     },
     "output_type": "display_data"
    }
   ],
   "source": [
    "sb.boxplot(y='retweet_count', hue='retweeted_status', data=cuny_df)"
   ]
  },
  {
   "cell_type": "code",
   "execution_count": 7,
   "metadata": {},
   "outputs": [
    {
     "data": {
      "text/plain": [
       "created_at                   datetime64[ns, UTC]\n",
       "id                                         int64\n",
       "id_str                                     int64\n",
       "text                                      object\n",
       "truncated                                   bool\n",
       "entities                                  object\n",
       "extended_entities                         object\n",
       "metadata                                  object\n",
       "source                                    object\n",
       "in_reply_to_status_id                    float64\n",
       "in_reply_to_status_id_str                float64\n",
       "in_reply_to_user_id                      float64\n",
       "in_reply_to_user_id_str                  float64\n",
       "in_reply_to_screen_name                   object\n",
       "user                                      object\n",
       "geo                                      float64\n",
       "coordinates                              float64\n",
       "place                                     object\n",
       "contributors                             float64\n",
       "retweeted_status                          object\n",
       "is_quote_status                             bool\n",
       "retweet_count                              int64\n",
       "favorite_count                             int64\n",
       "favorited                                   bool\n",
       "retweeted                                   bool\n",
       "possibly_sensitive                       float64\n",
       "lang                                      object\n",
       "quoted_status_id                         float64\n",
       "quoted_status_id_str                     float64\n",
       "quoted_status                             object\n",
       "dtype: object"
      ]
     },
     "execution_count": 7,
     "metadata": {},
     "output_type": "execute_result"
    }
   ],
   "source": [
    "cuny_df.dtypes"
   ]
  },
  {
   "cell_type": "code",
   "execution_count": 8,
   "metadata": {},
   "outputs": [
    {
     "data": {
      "text/plain": [
       "<matplotlib.axes._subplots.AxesSubplot at 0x1cda4d44f08>"
      ]
     },
     "execution_count": 8,
     "metadata": {},
     "output_type": "execute_result"
    },
    {
     "data": {
      "image/png": "[encoded data removed]",
      "text/plain": [
       "<Figure size 432x288 with 1 Axes>"
      ]
     },
     "metadata": {
      "needs_background": "light"
     },
     "output_type": "display_data"
    }
   ],
   "source": [
    "sb.countplot(x='is_quote_status', data=cuny_df)"
   ]
  },
  {
   "cell_type": "code",
   "execution_count": 9,
   "metadata": {},
   "outputs": [
    {
     "data": {
      "text/plain": [
       "<matplotlib.axes._subplots.AxesSubplot at 0x1cda55d99c8>"
      ]
     },
     "execution_count": 9,
     "metadata": {},
     "output_type": "execute_result"
    },
    {
     "data": {
      "image/png": "[encoded data removed]",
      "text/plain": [
       "<Figure size 432x288 with 1 Axes>"
      ]
     },
     "metadata": {
      "needs_background": "light"
     },
     "output_type": "display_data"
    }
   ],
   "source": [
    "sb.countplot(x='lang', data=cuny_df)"
   ]
  },
  {
   "cell_type": "code",
   "execution_count": 10,
   "metadata": {},
   "outputs": [
    {
     "data": {
      "text/plain": [
       "0    RT @HunterPSCCUNY: #austeritykills #CutCOVIDNo...\n",
       "1    #austeritykills #CutCOVIDNotCUNY \\nthank you A...\n",
       "2    @gyrizar Please corroborate. #CUNY \\nhttps://t...\n",
       "3    @studentactivism yeah, imagining our basement ...\n",
       "4    Hello Everyone 🌼, enjoy Lehman student meals d...\n",
       "Name: text, dtype: object"
      ]
     },
     "execution_count": 10,
     "metadata": {},
     "output_type": "execute_result"
    }
   ],
   "source": [
    "cuny_df['text'].head()"
   ]
  },
  {
   "cell_type": "code",
   "execution_count": 11,
   "metadata": {},
   "outputs": [
    {
     "data": {
      "text/plain": [
       "0    RT @HunterPSCCUNY: #austeritykills #CutCOVIDNo...\n",
       "1    #austeritykills #CutCOVIDNotCUNY \\nthank you A...\n",
       "2    @gyrizar Please corroborate. #CUNY \\nhttps://t...\n",
       "3    @studentactivism yeah, imagining our basement ...\n",
       "4    Hello Everyone 🌼, enjoy Lehman student meals d...\n",
       "Name: text, dtype: object"
      ]
     },
     "execution_count": 11,
     "metadata": {},
     "output_type": "execute_result"
    }
   ],
   "source": [
    "cuny_eng = cuny_df[cuny_df['lang'] == 'en'] \n",
    "cuny_eng['text'].head()"
   ]
  },
  {
   "cell_type": "code",
   "execution_count": 12,
   "metadata": {},
   "outputs": [
    {
     "data": {
      "text/plain": [
       "Text(0.5, 1.0, 'Frequency Distribution of Most Common Words in #CUNY Tweets')"
      ]
     },
     "execution_count": 12,
     "metadata": {},
     "output_type": "execute_result"
    },
    {
     "data": {
      "image/png": "[encoded data removed]",
      "text/plain": [
       "<Figure size 432x288 with 1 Axes>"
      ]
     },
     "metadata": {
      "needs_background": "light"
     },
     "output_type": "display_data"
    }
   ],
   "source": [
    "words = [ w.lower() \n",
    "         for t in cuny_eng['text'] \n",
    "            for w in t.split () ]\n",
    "count = cl.Counter(words)\n",
    "plt.hist(count.values())\n",
    "plt.ylabel('Frequency')\n",
    "plt.xlabel('Word Occurrence')\n",
    "plt.title('Frequency Distribution of Most Common Words in #CUNY Tweets')"
   ]
  },
  {
   "cell_type": "code",
   "execution_count": 13,
   "metadata": {},
   "outputs": [
    {
     "data": {
      "image/png": "[encoded data removed]",
      "text/plain": [
       "<Figure size 432x288 with 1 Axes>"
      ]
     },
     "metadata": {
      "needs_background": "light"
     },
     "output_type": "display_data"
    },
    {
     "data": {
      "text/plain": [
       "<matplotlib.axes._subplots.AxesSubplot at 0x1cda771ddc8>"
      ]
     },
     "execution_count": 13,
     "metadata": {},
     "output_type": "execute_result"
    }
   ],
   "source": [
    "import nltk\n",
    "\n",
    "cuny_freq = nltk.FreqDist(words)\n",
    "cuny_freq.plot(20, cumulative=True)"
   ]
  },
  {
   "cell_type": "code",
   "execution_count": 14,
   "metadata": {},
   "outputs": [
    {
     "name": "stdout",
     "output_type": "stream",
     "text": [
      "0\n",
      "38\n",
      "0.0\n"
     ]
    }
   ],
   "source": [
    "print(cuny_freq['#CUNY']) \n",
    "print(cuny_freq['#cuny']) \n",
    "print(cuny_freq.freq('#CUNY'))"
   ]
  }
 ],
 "metadata": {
  "kernelspec": {
   "display_name": "Python 3",
   "language": "python",
   "name": "python3"
  },
  "language_info": {
   "codemirror_mode": {
    "name": "ipython",
    "version": 3
   },
   "file_extension": ".py",
   "mimetype": "text/x-python",
   "name": "python",
   "nbconvert_exporter": "python",
   "pygments_lexer": "ipython3",
   "version": "3.7.7"
  }
 },
 "nbformat": 4,
 "nbformat_minor": 4
}
