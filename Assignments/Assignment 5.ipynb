{
 "cells": [
  {
   "cell_type": "markdown",
   "metadata": {},
   "source": [
    "# Sheridan Kamal\n",
    "\n",
    "## DATA 73500 - Assignment 5"
   ]
  },
  {
   "cell_type": "markdown",
   "metadata": {},
   "source": [
    "### Purpose\n",
    "In this notebook, we will be scraping data from the cutcovidnotcuny hashtag on twitter and visualizing how many times the tweets were retweeted with the hashtag and what language the tweets were written in. I chose this hashtag because of the talk of cutting budgets to CUNY schools, which will cause layoffs of adjunct professors, tuition hikes, as well as less course offerings which could impact students' ability to graduate.\n",
    "\n",
    "### Data\n",
    "The data is scraped from twitter using the twitter api and from the cutcovidnotcuny hashtag."
   ]
  },
  {
   "cell_type": "code",
   "execution_count": 1,
   "metadata": {},
   "outputs": [],
   "source": [
    "import warnings\n",
    "warnings.filterwarnings(\"ignore\")\n",
    "\n",
    "import pandas as pd\n",
    "import numpy as np\n",
    "import statsmodels.api as sm\n",
    "import seaborn as sb\n",
    "import twitter as tw\n",
    "import json\n",
    "import math\n",
    "import collections as cl\n",
    "import matplotlib.pyplot as plt\n",
    "import twitter as tw"
   ]
  },
  {
   "cell_type": "code",
   "execution_count": 2,
   "metadata": {},
   "outputs": [],
   "source": [
    "CONSUMER_KEY = 'GDzHFRHpXG8GmazEa686SWrW8'\n",
    "CONSUMER_SECRET = 'ugtGSyqQZWLxehCCJu7fBQxPquWai1grAaPVANeOC0EMZSUvF1'\n",
    "OAUTH_TOKEN = '62099456-hWeDi3BLYTm6is402uqrMYUcdhZJD2DmVpUfDdiAw'\n",
    "OAUTH_TOKEN_SECRET = 'nvys4S2sORvS13iWbQhW2QRZ5KXaJze5u8T5UlJVhdJkT'\n",
    "\n",
    "auth = tw.oauth.OAuth(OAUTH_TOKEN, OAUTH_TOKEN_SECRET,\n",
    "                           CONSUMER_KEY, CONSUMER_SECRET)\n",
    "\n",
    "twitter_api = tw.Twitter(auth=auth)"
   ]
  },
  {
   "cell_type": "code",
   "execution_count": 3,
   "metadata": {},
   "outputs": [
    {
     "data": {
      "text/html": [
       "<div>\n",
       "<style scoped>\n",
       "    .dataframe tbody tr th:only-of-type {\n",
       "        vertical-align: middle;\n",
       "    }\n",
       "\n",
       "    .dataframe tbody tr th {\n",
       "        vertical-align: top;\n",
       "    }\n",
       "\n",
       "    .dataframe thead th {\n",
       "        text-align: right;\n",
       "    }\n",
       "</style>\n",
       "<table border=\"1\" class=\"dataframe\">\n",
       "  <thead>\n",
       "    <tr style=\"text-align: right;\">\n",
       "      <th></th>\n",
       "      <th>created_at</th>\n",
       "      <th>id</th>\n",
       "      <th>id_str</th>\n",
       "      <th>text</th>\n",
       "      <th>truncated</th>\n",
       "      <th>entities</th>\n",
       "      <th>metadata</th>\n",
       "      <th>source</th>\n",
       "      <th>in_reply_to_status_id</th>\n",
       "      <th>in_reply_to_status_id_str</th>\n",
       "      <th>...</th>\n",
       "      <th>favorite_count</th>\n",
       "      <th>favorited</th>\n",
       "      <th>retweeted</th>\n",
       "      <th>possibly_sensitive</th>\n",
       "      <th>lang</th>\n",
       "      <th>retweeted_status</th>\n",
       "      <th>quoted_status_id</th>\n",
       "      <th>quoted_status_id_str</th>\n",
       "      <th>quoted_status</th>\n",
       "      <th>extended_entities</th>\n",
       "    </tr>\n",
       "  </thead>\n",
       "  <tbody>\n",
       "    <tr>\n",
       "      <th>0</th>\n",
       "      <td>2020-05-18 20:54:54+00:00</td>\n",
       "      <td>1262486847109902338</td>\n",
       "      <td>1262486847109902336</td>\n",
       "      <td>nygovcuomo #cutcovidnotcuny #makebillionairesp...</td>\n",
       "      <td>False</td>\n",
       "      <td>{'hashtags': [{'text': 'cutcovidnotcuny', 'ind...</td>\n",
       "      <td>{'iso_language_code': 'und', 'result_type': 'r...</td>\n",
       "      <td>&lt;a href=\"http://instagram.com\" rel=\"nofollow\"&gt;...</td>\n",
       "      <td>NaN</td>\n",
       "      <td>NaN</td>\n",
       "      <td>...</td>\n",
       "      <td>0</td>\n",
       "      <td>False</td>\n",
       "      <td>False</td>\n",
       "      <td>0.0</td>\n",
       "      <td>und</td>\n",
       "      <td>NaN</td>\n",
       "      <td>NaN</td>\n",
       "      <td>NaN</td>\n",
       "      <td>NaN</td>\n",
       "      <td>NaN</td>\n",
       "    </tr>\n",
       "    <tr>\n",
       "      <th>1</th>\n",
       "      <td>2020-05-18 20:52:23+00:00</td>\n",
       "      <td>1262486213841256449</td>\n",
       "      <td>1262486213841256448</td>\n",
       "      <td>RT @pfn37_phil: Hey @NYGovCuomo, I'm an associ...</td>\n",
       "      <td>False</td>\n",
       "      <td>{'hashtags': [], 'symbols': [], 'user_mentions...</td>\n",
       "      <td>{'iso_language_code': 'en', 'result_type': 're...</td>\n",
       "      <td>&lt;a href=\"https://mobile.twitter.com\" rel=\"nofo...</td>\n",
       "      <td>NaN</td>\n",
       "      <td>NaN</td>\n",
       "      <td>...</td>\n",
       "      <td>0</td>\n",
       "      <td>False</td>\n",
       "      <td>False</td>\n",
       "      <td>NaN</td>\n",
       "      <td>en</td>\n",
       "      <td>{'created_at': 'Wed May 13 12:52:04 +0000 2020...</td>\n",
       "      <td>NaN</td>\n",
       "      <td>NaN</td>\n",
       "      <td>NaN</td>\n",
       "      <td>NaN</td>\n",
       "    </tr>\n",
       "    <tr>\n",
       "      <th>2</th>\n",
       "      <td>2020-05-18 20:52:01+00:00</td>\n",
       "      <td>1262486121440841729</td>\n",
       "      <td>1262486121440841728</td>\n",
       "      <td>nygovcuomo #cutcovidnotcuny #makebillionairesp...</td>\n",
       "      <td>False</td>\n",
       "      <td>{'hashtags': [{'text': 'cutcovidnotcuny', 'ind...</td>\n",
       "      <td>{'iso_language_code': 'und', 'result_type': 'r...</td>\n",
       "      <td>&lt;a href=\"http://instagram.com\" rel=\"nofollow\"&gt;...</td>\n",
       "      <td>NaN</td>\n",
       "      <td>NaN</td>\n",
       "      <td>...</td>\n",
       "      <td>0</td>\n",
       "      <td>False</td>\n",
       "      <td>False</td>\n",
       "      <td>0.0</td>\n",
       "      <td>und</td>\n",
       "      <td>NaN</td>\n",
       "      <td>NaN</td>\n",
       "      <td>NaN</td>\n",
       "      <td>NaN</td>\n",
       "      <td>NaN</td>\n",
       "    </tr>\n",
       "    <tr>\n",
       "      <th>3</th>\n",
       "      <td>2020-05-18 20:51:04+00:00</td>\n",
       "      <td>1262485879228182528</td>\n",
       "      <td>1262485879228182528</td>\n",
       "      <td>RT @PSC_CUNY: #FundCUNYNow #CutCovidnotCUNY #M...</td>\n",
       "      <td>False</td>\n",
       "      <td>{'hashtags': [{'text': 'FundCUNYNow', 'indices...</td>\n",
       "      <td>{'iso_language_code': 'und', 'result_type': 'r...</td>\n",
       "      <td>&lt;a href=\"http://twitter.com/download/iphone\" r...</td>\n",
       "      <td>NaN</td>\n",
       "      <td>NaN</td>\n",
       "      <td>...</td>\n",
       "      <td>0</td>\n",
       "      <td>False</td>\n",
       "      <td>False</td>\n",
       "      <td>NaN</td>\n",
       "      <td>und</td>\n",
       "      <td>{'created_at': 'Mon May 18 20:49:46 +0000 2020...</td>\n",
       "      <td>1.262431e+18</td>\n",
       "      <td>1.262431e+18</td>\n",
       "      <td>NaN</td>\n",
       "      <td>NaN</td>\n",
       "    </tr>\n",
       "    <tr>\n",
       "      <th>4</th>\n",
       "      <td>2020-05-18 20:50:19+00:00</td>\n",
       "      <td>1262485690547347457</td>\n",
       "      <td>1262485690547347456</td>\n",
       "      <td>nygovcuomo #cutcovidnotcuny #makebillionairesp...</td>\n",
       "      <td>False</td>\n",
       "      <td>{'hashtags': [{'text': 'cutcovidnotcuny', 'ind...</td>\n",
       "      <td>{'iso_language_code': 'und', 'result_type': 'r...</td>\n",
       "      <td>&lt;a href=\"http://instagram.com\" rel=\"nofollow\"&gt;...</td>\n",
       "      <td>NaN</td>\n",
       "      <td>NaN</td>\n",
       "      <td>...</td>\n",
       "      <td>0</td>\n",
       "      <td>False</td>\n",
       "      <td>False</td>\n",
       "      <td>0.0</td>\n",
       "      <td>und</td>\n",
       "      <td>NaN</td>\n",
       "      <td>NaN</td>\n",
       "      <td>NaN</td>\n",
       "      <td>NaN</td>\n",
       "      <td>NaN</td>\n",
       "    </tr>\n",
       "  </tbody>\n",
       "</table>\n",
       "<p>5 rows × 30 columns</p>\n",
       "</div>"
      ],
      "text/plain": [
       "                 created_at                   id               id_str  \\\n",
       "0 2020-05-18 20:54:54+00:00  1262486847109902338  1262486847109902336   \n",
       "1 2020-05-18 20:52:23+00:00  1262486213841256449  1262486213841256448   \n",
       "2 2020-05-18 20:52:01+00:00  1262486121440841729  1262486121440841728   \n",
       "3 2020-05-18 20:51:04+00:00  1262485879228182528  1262485879228182528   \n",
       "4 2020-05-18 20:50:19+00:00  1262485690547347457  1262485690547347456   \n",
       "\n",
       "                                                text  truncated  \\\n",
       "0  nygovcuomo #cutcovidnotcuny #makebillionairesp...      False   \n",
       "1  RT @pfn37_phil: Hey @NYGovCuomo, I'm an associ...      False   \n",
       "2  nygovcuomo #cutcovidnotcuny #makebillionairesp...      False   \n",
       "3  RT @PSC_CUNY: #FundCUNYNow #CutCovidnotCUNY #M...      False   \n",
       "4  nygovcuomo #cutcovidnotcuny #makebillionairesp...      False   \n",
       "\n",
       "                                            entities  \\\n",
       "0  {'hashtags': [{'text': 'cutcovidnotcuny', 'ind...   \n",
       "1  {'hashtags': [], 'symbols': [], 'user_mentions...   \n",
       "2  {'hashtags': [{'text': 'cutcovidnotcuny', 'ind...   \n",
       "3  {'hashtags': [{'text': 'FundCUNYNow', 'indices...   \n",
       "4  {'hashtags': [{'text': 'cutcovidnotcuny', 'ind...   \n",
       "\n",
       "                                            metadata  \\\n",
       "0  {'iso_language_code': 'und', 'result_type': 'r...   \n",
       "1  {'iso_language_code': 'en', 'result_type': 're...   \n",
       "2  {'iso_language_code': 'und', 'result_type': 'r...   \n",
       "3  {'iso_language_code': 'und', 'result_type': 'r...   \n",
       "4  {'iso_language_code': 'und', 'result_type': 'r...   \n",
       "\n",
       "                                              source  in_reply_to_status_id  \\\n",
       "0  <a href=\"http://instagram.com\" rel=\"nofollow\">...                    NaN   \n",
       "1  <a href=\"https://mobile.twitter.com\" rel=\"nofo...                    NaN   \n",
       "2  <a href=\"http://instagram.com\" rel=\"nofollow\">...                    NaN   \n",
       "3  <a href=\"http://twitter.com/download/iphone\" r...                    NaN   \n",
       "4  <a href=\"http://instagram.com\" rel=\"nofollow\">...                    NaN   \n",
       "\n",
       "   in_reply_to_status_id_str  ...  favorite_count  favorited retweeted  \\\n",
       "0                        NaN  ...               0      False     False   \n",
       "1                        NaN  ...               0      False     False   \n",
       "2                        NaN  ...               0      False     False   \n",
       "3                        NaN  ...               0      False     False   \n",
       "4                        NaN  ...               0      False     False   \n",
       "\n",
       "  possibly_sensitive  lang                                   retweeted_status  \\\n",
       "0                0.0   und                                                NaN   \n",
       "1                NaN    en  {'created_at': 'Wed May 13 12:52:04 +0000 2020...   \n",
       "2                0.0   und                                                NaN   \n",
       "3                NaN   und  {'created_at': 'Mon May 18 20:49:46 +0000 2020...   \n",
       "4                0.0   und                                                NaN   \n",
       "\n",
       "   quoted_status_id  quoted_status_id_str  quoted_status  extended_entities  \n",
       "0               NaN                   NaN            NaN                NaN  \n",
       "1               NaN                   NaN            NaN                NaN  \n",
       "2               NaN                   NaN            NaN                NaN  \n",
       "3      1.262431e+18          1.262431e+18            NaN                NaN  \n",
       "4               NaN                   NaN            NaN                NaN  \n",
       "\n",
       "[5 rows x 30 columns]"
      ]
     },
     "execution_count": 3,
     "metadata": {},
     "output_type": "execute_result"
    }
   ],
   "source": [
    "htag = '%23cutcovidnotcuny'\n",
    "n = 25000\n",
    "cuny = twitter_api.search.tweets(q=htag, count=n)\n",
    "cuny_statuses = cuny['statuses']\n",
    "cuny_df = pd.read_json(json.dumps(cuny_statuses))\n",
    "cuny_df.head()"
   ]
  },
  {
   "cell_type": "code",
   "execution_count": 4,
   "metadata": {},
   "outputs": [
    {
     "data": {
      "text/plain": [
       "Index(['created_at', 'id', 'id_str', 'text', 'truncated', 'entities',\n",
       "       'metadata', 'source', 'in_reply_to_status_id',\n",
       "       'in_reply_to_status_id_str', 'in_reply_to_user_id',\n",
       "       'in_reply_to_user_id_str', 'in_reply_to_screen_name', 'user', 'geo',\n",
       "       'coordinates', 'place', 'contributors', 'is_quote_status',\n",
       "       'retweet_count', 'favorite_count', 'favorited', 'retweeted',\n",
       "       'possibly_sensitive', 'lang', 'retweeted_status', 'quoted_status_id',\n",
       "       'quoted_status_id_str', 'quoted_status', 'extended_entities'],\n",
       "      dtype='object')"
      ]
     },
     "execution_count": 4,
     "metadata": {},
     "output_type": "execute_result"
    }
   ],
   "source": [
    "cuny_df.columns"
   ]
  },
  {
   "cell_type": "code",
   "execution_count": 5,
   "metadata": {},
   "outputs": [
    {
     "data": {
      "text/plain": [
       "count    100.000000\n",
       "mean      11.170000\n",
       "std       12.746998\n",
       "min        0.000000\n",
       "25%        2.750000\n",
       "50%        8.000000\n",
       "75%       15.000000\n",
       "max       62.000000\n",
       "Name: retweet_count, dtype: float64"
      ]
     },
     "execution_count": 5,
     "metadata": {},
     "output_type": "execute_result"
    }
   ],
   "source": [
    "cuny_df['retweet_count'].describe()"
   ]
  },
  {
   "cell_type": "code",
   "execution_count": 6,
   "metadata": {},
   "outputs": [
    {
     "data": {
      "text/plain": [
       "<matplotlib.axes._subplots.AxesSubplot at 0x198e1093f08>"
      ]
     },
     "execution_count": 6,
     "metadata": {},
     "output_type": "execute_result"
    },
    {
     "data": {
      "image/png": "[encoded data removed]",
      "text/plain": [
       "<Figure size 432x288 with 1 Axes>"
      ]
     },
     "metadata": {
      "needs_background": "light"
     },
     "output_type": "display_data"
    }
   ],
   "source": [
    "sb.boxplot(y='retweet_count', hue='retweeted_status', data=cuny_df)"
   ]
  },
  {
   "cell_type": "code",
   "execution_count": 7,
   "metadata": {},
   "outputs": [
    {
     "data": {
      "text/plain": [
       "<matplotlib.axes._subplots.AxesSubplot at 0x198e12250c8>"
      ]
     },
     "execution_count": 7,
     "metadata": {},
     "output_type": "execute_result"
    },
    {
     "data": {
      "image/png": "[encoded data removed]",
      "text/plain": [
       "<Figure size 432x288 with 1 Axes>"
      ]
     },
     "metadata": {
      "needs_background": "light"
     },
     "output_type": "display_data"
    }
   ],
   "source": [
    "sb.countplot(x='lang', data=cuny_df)"
   ]
  }
 ],
 "metadata": {
  "kernelspec": {
   "display_name": "Python 3",
   "language": "python",
   "name": "python3"
  },
  "language_info": {
   "codemirror_mode": {
    "name": "ipython",
    "version": 3
   },
   "file_extension": ".py",
   "mimetype": "text/x-python",
   "name": "python",
   "nbconvert_exporter": "python",
   "pygments_lexer": "ipython3",
   "version": "3.7.7"
  }
 },
 "nbformat": 4,
 "nbformat_minor": 4
}
