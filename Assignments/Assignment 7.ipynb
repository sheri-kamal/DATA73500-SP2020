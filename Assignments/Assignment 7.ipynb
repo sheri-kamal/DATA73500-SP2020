{
 "cells": [
  {
   "cell_type": "markdown",
   "metadata": {},
   "source": [
    "# Sheridan Kamal\n",
    "\n",
    "## DATA 73500 - Assignment 7"
   ]
  },
  {
   "cell_type": "markdown",
   "metadata": {},
   "source": [
    "### Purpose\n",
    "In this notebook, we will be scraping data from the clapbecausewecare hashtag on twitter and visualizing how many times the tweets were favorited with the hashtag and what language the tweets were written in. I chose this hashtag because of all of the health care workers who are working hard during this pandemic and wanted to see how they were mentioned on twitter.\n",
    "\n",
    "### Data\n",
    "The data is scraped from twitter using the twitter api and from the clapbecausewecare hashtag."
   ]
  },
  {
   "cell_type": "code",
   "execution_count": 1,
   "metadata": {},
   "outputs": [],
   "source": [
    "import warnings\n",
    "warnings.filterwarnings(\"ignore\")\n",
    "\n",
    "import pandas as pd\n",
    "import numpy as np\n",
    "import statsmodels.api as sm\n",
    "import seaborn as sb\n",
    "import twitter as tw\n",
    "import json\n",
    "import math\n",
    "import collections as cl\n",
    "import matplotlib.pyplot as plt\n",
    "import twitter as tw"
   ]
  },
  {
   "cell_type": "code",
   "execution_count": 2,
   "metadata": {},
   "outputs": [],
   "source": [
    "CONSUMER_KEY = 'GDzHFRHpXG8GmazEa686SWrW8'\n",
    "CONSUMER_SECRET = 'ugtGSyqQZWLxehCCJu7fBQxPquWai1grAaPVANeOC0EMZSUvF1'\n",
    "OAUTH_TOKEN = '62099456-hWeDi3BLYTm6is402uqrMYUcdhZJD2DmVpUfDdiAw'\n",
    "OAUTH_TOKEN_SECRET = 'nvys4S2sORvS13iWbQhW2QRZ5KXaJze5u8T5UlJVhdJkT'\n",
    "\n",
    "auth = tw.oauth.OAuth(OAUTH_TOKEN, OAUTH_TOKEN_SECRET,\n",
    "                           CONSUMER_KEY, CONSUMER_SECRET)\n",
    "\n",
    "twitter_api = tw.Twitter(auth=auth)"
   ]
  },
  {
   "cell_type": "code",
   "execution_count": 3,
   "metadata": {},
   "outputs": [
    {
     "data": {
      "text/html": [
       "<div>\n",
       "<style scoped>\n",
       "    .dataframe tbody tr th:only-of-type {\n",
       "        vertical-align: middle;\n",
       "    }\n",
       "\n",
       "    .dataframe tbody tr th {\n",
       "        vertical-align: top;\n",
       "    }\n",
       "\n",
       "    .dataframe thead th {\n",
       "        text-align: right;\n",
       "    }\n",
       "</style>\n",
       "<table border=\"1\" class=\"dataframe\">\n",
       "  <thead>\n",
       "    <tr style=\"text-align: right;\">\n",
       "      <th></th>\n",
       "      <th>created_at</th>\n",
       "      <th>id</th>\n",
       "      <th>id_str</th>\n",
       "      <th>text</th>\n",
       "      <th>truncated</th>\n",
       "      <th>entities</th>\n",
       "      <th>metadata</th>\n",
       "      <th>source</th>\n",
       "      <th>in_reply_to_status_id</th>\n",
       "      <th>in_reply_to_status_id_str</th>\n",
       "      <th>...</th>\n",
       "      <th>retweet_count</th>\n",
       "      <th>favorite_count</th>\n",
       "      <th>favorited</th>\n",
       "      <th>retweeted</th>\n",
       "      <th>lang</th>\n",
       "      <th>possibly_sensitive</th>\n",
       "      <th>extended_entities</th>\n",
       "      <th>quoted_status_id</th>\n",
       "      <th>quoted_status_id_str</th>\n",
       "      <th>quoted_status</th>\n",
       "    </tr>\n",
       "  </thead>\n",
       "  <tbody>\n",
       "    <tr>\n",
       "      <th>0</th>\n",
       "      <td>2020-05-18 21:07:36+00:00</td>\n",
       "      <td>1262490042175553536</td>\n",
       "      <td>1262490042175553536</td>\n",
       "      <td>RT @LearyFF: The words 'thank you' have never ...</td>\n",
       "      <td>False</td>\n",
       "      <td>{'hashtags': [{'text': 'ClapBecauseWeCare', 'i...</td>\n",
       "      <td>{'iso_language_code': 'en', 'result_type': 're...</td>\n",
       "      <td>&lt;a href=\"http://twitter.com/download/iphone\" r...</td>\n",
       "      <td>NaN</td>\n",
       "      <td>NaN</td>\n",
       "      <td>...</td>\n",
       "      <td>12</td>\n",
       "      <td>0</td>\n",
       "      <td>False</td>\n",
       "      <td>False</td>\n",
       "      <td>en</td>\n",
       "      <td>NaN</td>\n",
       "      <td>NaN</td>\n",
       "      <td>NaN</td>\n",
       "      <td>NaN</td>\n",
       "      <td>NaN</td>\n",
       "    </tr>\n",
       "    <tr>\n",
       "      <th>1</th>\n",
       "      <td>2020-05-18 21:06:44+00:00</td>\n",
       "      <td>1262489823027159040</td>\n",
       "      <td>1262489823027159040</td>\n",
       "      <td>RT @LearyFF: The words 'thank you' have never ...</td>\n",
       "      <td>False</td>\n",
       "      <td>{'hashtags': [{'text': 'ClapBecauseWeCare', 'i...</td>\n",
       "      <td>{'iso_language_code': 'en', 'result_type': 're...</td>\n",
       "      <td>&lt;a href=\"https://mobile.twitter.com\" rel=\"nofo...</td>\n",
       "      <td>NaN</td>\n",
       "      <td>NaN</td>\n",
       "      <td>...</td>\n",
       "      <td>12</td>\n",
       "      <td>0</td>\n",
       "      <td>False</td>\n",
       "      <td>False</td>\n",
       "      <td>en</td>\n",
       "      <td>NaN</td>\n",
       "      <td>NaN</td>\n",
       "      <td>NaN</td>\n",
       "      <td>NaN</td>\n",
       "      <td>NaN</td>\n",
       "    </tr>\n",
       "    <tr>\n",
       "      <th>2</th>\n",
       "      <td>2020-05-18 20:27:29+00:00</td>\n",
       "      <td>1262479946934620168</td>\n",
       "      <td>1262479946934620160</td>\n",
       "      <td>RT @WFP_Zimbabwe: From all of us at @WFP_Zimba...</td>\n",
       "      <td>False</td>\n",
       "      <td>{'hashtags': [{'text': 'frontline', 'indices':...</td>\n",
       "      <td>{'iso_language_code': 'en', 'result_type': 're...</td>\n",
       "      <td>&lt;a href=\"https://mobile.twitter.com\" rel=\"nofo...</td>\n",
       "      <td>NaN</td>\n",
       "      <td>NaN</td>\n",
       "      <td>...</td>\n",
       "      <td>6</td>\n",
       "      <td>0</td>\n",
       "      <td>False</td>\n",
       "      <td>False</td>\n",
       "      <td>en</td>\n",
       "      <td>NaN</td>\n",
       "      <td>NaN</td>\n",
       "      <td>NaN</td>\n",
       "      <td>NaN</td>\n",
       "      <td>NaN</td>\n",
       "    </tr>\n",
       "    <tr>\n",
       "      <th>3</th>\n",
       "      <td>2020-05-18 20:14:00+00:00</td>\n",
       "      <td>1262476553478422539</td>\n",
       "      <td>1262476553478422528</td>\n",
       "      <td>RT @MusgroveWillows: Pic from last Wednesday w...</td>\n",
       "      <td>False</td>\n",
       "      <td>{'hashtags': [{'text': 'SomersetFT', 'indices'...</td>\n",
       "      <td>{'iso_language_code': 'en', 'result_type': 're...</td>\n",
       "      <td>&lt;a href=\"http://twitter.com/download/iphone\" r...</td>\n",
       "      <td>NaN</td>\n",
       "      <td>NaN</td>\n",
       "      <td>...</td>\n",
       "      <td>1</td>\n",
       "      <td>0</td>\n",
       "      <td>False</td>\n",
       "      <td>False</td>\n",
       "      <td>en</td>\n",
       "      <td>NaN</td>\n",
       "      <td>NaN</td>\n",
       "      <td>NaN</td>\n",
       "      <td>NaN</td>\n",
       "      <td>NaN</td>\n",
       "    </tr>\n",
       "    <tr>\n",
       "      <th>4</th>\n",
       "      <td>2020-05-18 19:44:50+00:00</td>\n",
       "      <td>1262469211160526857</td>\n",
       "      <td>1262469211160526848</td>\n",
       "      <td>RT @LearyFF: The words 'thank you' have never ...</td>\n",
       "      <td>False</td>\n",
       "      <td>{'hashtags': [{'text': 'ClapBecauseWeCare', 'i...</td>\n",
       "      <td>{'iso_language_code': 'en', 'result_type': 're...</td>\n",
       "      <td>&lt;a href=\"http://twitter.com/download/android\" ...</td>\n",
       "      <td>NaN</td>\n",
       "      <td>NaN</td>\n",
       "      <td>...</td>\n",
       "      <td>12</td>\n",
       "      <td>0</td>\n",
       "      <td>False</td>\n",
       "      <td>False</td>\n",
       "      <td>en</td>\n",
       "      <td>NaN</td>\n",
       "      <td>NaN</td>\n",
       "      <td>NaN</td>\n",
       "      <td>NaN</td>\n",
       "      <td>NaN</td>\n",
       "    </tr>\n",
       "  </tbody>\n",
       "</table>\n",
       "<p>5 rows × 30 columns</p>\n",
       "</div>"
      ],
      "text/plain": [
       "                 created_at                   id               id_str  \\\n",
       "0 2020-05-18 21:07:36+00:00  1262490042175553536  1262490042175553536   \n",
       "1 2020-05-18 21:06:44+00:00  1262489823027159040  1262489823027159040   \n",
       "2 2020-05-18 20:27:29+00:00  1262479946934620168  1262479946934620160   \n",
       "3 2020-05-18 20:14:00+00:00  1262476553478422539  1262476553478422528   \n",
       "4 2020-05-18 19:44:50+00:00  1262469211160526857  1262469211160526848   \n",
       "\n",
       "                                                text  truncated  \\\n",
       "0  RT @LearyFF: The words 'thank you' have never ...      False   \n",
       "1  RT @LearyFF: The words 'thank you' have never ...      False   \n",
       "2  RT @WFP_Zimbabwe: From all of us at @WFP_Zimba...      False   \n",
       "3  RT @MusgroveWillows: Pic from last Wednesday w...      False   \n",
       "4  RT @LearyFF: The words 'thank you' have never ...      False   \n",
       "\n",
       "                                            entities  \\\n",
       "0  {'hashtags': [{'text': 'ClapBecauseWeCare', 'i...   \n",
       "1  {'hashtags': [{'text': 'ClapBecauseWeCare', 'i...   \n",
       "2  {'hashtags': [{'text': 'frontline', 'indices':...   \n",
       "3  {'hashtags': [{'text': 'SomersetFT', 'indices'...   \n",
       "4  {'hashtags': [{'text': 'ClapBecauseWeCare', 'i...   \n",
       "\n",
       "                                            metadata  \\\n",
       "0  {'iso_language_code': 'en', 'result_type': 're...   \n",
       "1  {'iso_language_code': 'en', 'result_type': 're...   \n",
       "2  {'iso_language_code': 'en', 'result_type': 're...   \n",
       "3  {'iso_language_code': 'en', 'result_type': 're...   \n",
       "4  {'iso_language_code': 'en', 'result_type': 're...   \n",
       "\n",
       "                                              source  in_reply_to_status_id  \\\n",
       "0  <a href=\"http://twitter.com/download/iphone\" r...                    NaN   \n",
       "1  <a href=\"https://mobile.twitter.com\" rel=\"nofo...                    NaN   \n",
       "2  <a href=\"https://mobile.twitter.com\" rel=\"nofo...                    NaN   \n",
       "3  <a href=\"http://twitter.com/download/iphone\" r...                    NaN   \n",
       "4  <a href=\"http://twitter.com/download/android\" ...                    NaN   \n",
       "\n",
       "   in_reply_to_status_id_str  ...  retweet_count  favorite_count favorited  \\\n",
       "0                        NaN  ...             12               0     False   \n",
       "1                        NaN  ...             12               0     False   \n",
       "2                        NaN  ...              6               0     False   \n",
       "3                        NaN  ...              1               0     False   \n",
       "4                        NaN  ...             12               0     False   \n",
       "\n",
       "  retweeted lang possibly_sensitive extended_entities  quoted_status_id  \\\n",
       "0     False   en                NaN               NaN               NaN   \n",
       "1     False   en                NaN               NaN               NaN   \n",
       "2     False   en                NaN               NaN               NaN   \n",
       "3     False   en                NaN               NaN               NaN   \n",
       "4     False   en                NaN               NaN               NaN   \n",
       "\n",
       "  quoted_status_id_str  quoted_status  \n",
       "0                  NaN            NaN  \n",
       "1                  NaN            NaN  \n",
       "2                  NaN            NaN  \n",
       "3                  NaN            NaN  \n",
       "4                  NaN            NaN  \n",
       "\n",
       "[5 rows x 30 columns]"
      ]
     },
     "execution_count": 3,
     "metadata": {},
     "output_type": "execute_result"
    }
   ],
   "source": [
    "htag = '%23clapbecausewecare'\n",
    "n = 25000\n",
    "hcw = twitter_api.search.tweets(q=htag, count=n)\n",
    "hcw_statuses = hcw['statuses']\n",
    "hcw_df = pd.read_json(json.dumps(hcw_statuses))\n",
    "hcw_df.head()"
   ]
  },
  {
   "cell_type": "code",
   "execution_count": 4,
   "metadata": {},
   "outputs": [
    {
     "data": {
      "text/plain": [
       "Index(['created_at', 'id', 'id_str', 'text', 'truncated', 'entities',\n",
       "       'metadata', 'source', 'in_reply_to_status_id',\n",
       "       'in_reply_to_status_id_str', 'in_reply_to_user_id',\n",
       "       'in_reply_to_user_id_str', 'in_reply_to_screen_name', 'user', 'geo',\n",
       "       'coordinates', 'place', 'contributors', 'retweeted_status',\n",
       "       'is_quote_status', 'retweet_count', 'favorite_count', 'favorited',\n",
       "       'retweeted', 'lang', 'possibly_sensitive', 'extended_entities',\n",
       "       'quoted_status_id', 'quoted_status_id_str', 'quoted_status'],\n",
       "      dtype='object')"
      ]
     },
     "execution_count": 4,
     "metadata": {},
     "output_type": "execute_result"
    }
   ],
   "source": [
    "hcw_df.columns"
   ]
  },
  {
   "cell_type": "code",
   "execution_count": 5,
   "metadata": {},
   "outputs": [
    {
     "data": {
      "text/plain": [
       "<matplotlib.axes._subplots.AxesSubplot at 0x20e395a8e48>"
      ]
     },
     "execution_count": 5,
     "metadata": {},
     "output_type": "execute_result"
    },
    {
     "data": {
      "image/png": "[encoded data removed]",
      "text/plain": [
       "<Figure size 432x288 with 1 Axes>"
      ]
     },
     "metadata": {
      "needs_background": "light"
     },
     "output_type": "display_data"
    }
   ],
   "source": [
    "sb.countplot(x='favorite_count', data=hcw_df)"
   ]
  },
  {
   "cell_type": "code",
   "execution_count": 6,
   "metadata": {},
   "outputs": [
    {
     "data": {
      "text/plain": [
       "<matplotlib.axes._subplots.AxesSubplot at 0x20e39963608>"
      ]
     },
     "execution_count": 6,
     "metadata": {},
     "output_type": "execute_result"
    },
    {
     "data": {
      "image/png": "[encoded data removed]",
      "text/plain": [
       "<Figure size 432x288 with 1 Axes>"
      ]
     },
     "metadata": {
      "needs_background": "light"
     },
     "output_type": "display_data"
    }
   ],
   "source": [
    "sb.countplot(x='lang', data=hcw_df)"
   ]
  }
 ],
 "metadata": {
  "kernelspec": {
   "display_name": "Python 3",
   "language": "python",
   "name": "python3"
  },
  "language_info": {
   "codemirror_mode": {
    "name": "ipython",
    "version": 3
   },
   "file_extension": ".py",
   "mimetype": "text/x-python",
   "name": "python",
   "nbconvert_exporter": "python",
   "pygments_lexer": "ipython3",
   "version": "3.7.7"
  }
 },
 "nbformat": 4,
 "nbformat_minor": 4
}
