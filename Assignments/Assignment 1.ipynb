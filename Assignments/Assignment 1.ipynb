{
 "cells": [
  {
   "cell_type": "markdown",
   "metadata": {},
   "source": [
    "# Sheridan Kamal\n",
    "\n",
    "## DATA 73500 - Assignment 1 (Due 2/24/20, 6:30p)\n"
   ]
  },
  {
   "cell_type": "markdown",
   "metadata": {},
   "source": [
    "### Project\n",
    "This project seeks to determine if there is a relationship between water quality and waterborne illness in NYC. The information from this analysis could be used to help city and government agencies to determine if waterborne illness is truly affected by water quality or if there are other factors, which we have not or could not have accounted for, that influence waterborne illness rates in NYC.\n",
    "\n",
    "### Data\n",
    "Using data from the 311 dataset (https://data.cityofnewyork.us/Social-Services/311-Service-Requests-from-2010-to-Present/erm2-nwe9/data), I aggregated water quality complaints and waterborne illness complaints by borough and by year from 2010 to 2019 for a total of 50 data points, with 10 data points per borough and 5 data points per year."
   ]
  },
  {
   "cell_type": "code",
   "execution_count": 2,
   "metadata": {},
   "outputs": [
    {
     "data": {
      "text/html": [
       "<div>\n",
       "<style scoped>\n",
       "    .dataframe tbody tr th:only-of-type {\n",
       "        vertical-align: middle;\n",
       "    }\n",
       "\n",
       "    .dataframe tbody tr th {\n",
       "        vertical-align: top;\n",
       "    }\n",
       "\n",
       "    .dataframe thead th {\n",
       "        text-align: right;\n",
       "    }\n",
       "</style>\n",
       "<table border=\"1\" class=\"dataframe\">\n",
       "  <thead>\n",
       "    <tr style=\"text-align: right;\">\n",
       "      <th></th>\n",
       "      <th>Year</th>\n",
       "      <th>Borough</th>\n",
       "      <th>Waterborne_Illness</th>\n",
       "      <th>Water_Quality</th>\n",
       "    </tr>\n",
       "  </thead>\n",
       "  <tbody>\n",
       "    <tr>\n",
       "      <th>0</th>\n",
       "      <td>2010-01-01</td>\n",
       "      <td>Bronx</td>\n",
       "      <td>7</td>\n",
       "      <td>556</td>\n",
       "    </tr>\n",
       "    <tr>\n",
       "      <th>1</th>\n",
       "      <td>2010-01-01</td>\n",
       "      <td>Brooklyn</td>\n",
       "      <td>28</td>\n",
       "      <td>1783</td>\n",
       "    </tr>\n",
       "    <tr>\n",
       "      <th>2</th>\n",
       "      <td>2010-01-01</td>\n",
       "      <td>Manhattan</td>\n",
       "      <td>17</td>\n",
       "      <td>584</td>\n",
       "    </tr>\n",
       "    <tr>\n",
       "      <th>3</th>\n",
       "      <td>2010-01-01</td>\n",
       "      <td>Queens</td>\n",
       "      <td>13</td>\n",
       "      <td>3525</td>\n",
       "    </tr>\n",
       "    <tr>\n",
       "      <th>4</th>\n",
       "      <td>2010-01-01</td>\n",
       "      <td>Staten Island</td>\n",
       "      <td>3</td>\n",
       "      <td>1694</td>\n",
       "    </tr>\n",
       "  </tbody>\n",
       "</table>\n",
       "</div>"
      ],
      "text/plain": [
       "        Year        Borough  Waterborne_Illness  Water_Quality\n",
       "0 2010-01-01          Bronx                   7            556\n",
       "1 2010-01-01       Brooklyn                  28           1783\n",
       "2 2010-01-01      Manhattan                  17            584\n",
       "3 2010-01-01         Queens                  13           3525\n",
       "4 2010-01-01  Staten Island                   3           1694"
      ]
     },
     "execution_count": 2,
     "metadata": {},
     "output_type": "execute_result"
    }
   ],
   "source": [
    "import numpy as np\n",
    "import pandas as pd\n",
    "import statsmodels.formula.api as sm\n",
    "import seaborn as sns\n",
    "\n",
    "data = pd.read_csv('311 Data - Water Quality and Illness.csv')\n",
    "data['Year'] = pd.to_datetime(data['Year'], format = '%Y') #Date set to first day of the year per UNIX convention\n",
    "data.head()"
   ]
  },
  {
   "cell_type": "code",
   "execution_count": 3,
   "metadata": {},
   "outputs": [
    {
     "data": {
      "text/html": [
       "<div>\n",
       "<style scoped>\n",
       "    .dataframe tbody tr th:only-of-type {\n",
       "        vertical-align: middle;\n",
       "    }\n",
       "\n",
       "    .dataframe tbody tr th {\n",
       "        vertical-align: top;\n",
       "    }\n",
       "\n",
       "    .dataframe thead th {\n",
       "        text-align: right;\n",
       "    }\n",
       "</style>\n",
       "<table border=\"1\" class=\"dataframe\">\n",
       "  <thead>\n",
       "    <tr style=\"text-align: right;\">\n",
       "      <th></th>\n",
       "      <th>Waterborne_Illness</th>\n",
       "      <th>Water_Quality</th>\n",
       "    </tr>\n",
       "  </thead>\n",
       "  <tbody>\n",
       "    <tr>\n",
       "      <th>Waterborne_Illness</th>\n",
       "      <td>1.000000</td>\n",
       "      <td>0.207398</td>\n",
       "    </tr>\n",
       "    <tr>\n",
       "      <th>Water_Quality</th>\n",
       "      <td>0.207398</td>\n",
       "      <td>1.000000</td>\n",
       "    </tr>\n",
       "  </tbody>\n",
       "</table>\n",
       "</div>"
      ],
      "text/plain": [
       "                    Waterborne_Illness  Water_Quality\n",
       "Waterborne_Illness            1.000000       0.207398\n",
       "Water_Quality                 0.207398       1.000000"
      ]
     },
     "execution_count": 3,
     "metadata": {},
     "output_type": "execute_result"
    }
   ],
   "source": [
    "data.corr()"
   ]
  },
  {
   "cell_type": "markdown",
   "metadata": {},
   "source": [
    "Waterborne Illness and Water Quality are positively, but weakly correlated with each other."
   ]
  },
  {
   "cell_type": "code",
   "execution_count": 4,
   "metadata": {},
   "outputs": [
    {
     "data": {
      "application/javascript": [
       "const spec = {\"usermeta\": {\"embedOptions\": {\"theme\": \"quartz\"}}, \"config\": {\"view\": {\"width\": 400, \"height\": 300}, \"mark\": {\"tooltip\": null}}, \"hconcat\": [{\"mark\": \"circle\", \"encoding\": {\"color\": {\"type\": \"nominal\", \"field\": \"Borough\", \"legend\": null}, \"tooltip\": [{\"type\": \"nominal\", \"field\": \"Borough\"}, {\"type\": \"quantitative\", \"field\": \"Water_Quality\"}, {\"type\": \"quantitative\", \"field\": \"Waterborne_Illness\"}], \"x\": {\"type\": \"quantitative\", \"field\": \"Water_Quality\", \"scale\": {\"zero\": false}}, \"y\": {\"type\": \"quantitative\", \"field\": \"Waterborne_Illness\"}}, \"selection\": {\"selector003\": {\"type\": \"interval\", \"bind\": \"scales\", \"encodings\": [\"x\", \"y\"]}}, \"title\": \"Relationship between Water Quality and Waterborne Illness\", \"transform\": [{\"filter\": {\"selection\": \"selector002\"}}]}, {\"mark\": \"rect\", \"encoding\": {\"color\": {\"condition\": {\"type\": \"nominal\", \"field\": \"Borough\", \"legend\": null, \"selection\": \"selector002\"}, \"value\": \"lightgray\"}, \"y\": {\"type\": \"nominal\", \"axis\": {\"title\": \"Select Borough\"}, \"field\": \"Borough\"}}, \"selection\": {\"selector002\": {\"type\": \"multi\", \"encodings\": [\"color\"]}}}], \"data\": {\"name\": \"data-274aca28d59cad427d36e17f262c86be\"}, \"$schema\": \"https://vega.github.io/schema/vega-lite/v3.4.0.json\", \"datasets\": {\"data-274aca28d59cad427d36e17f262c86be\": [{\"Year\": \"2010-01-01T00:00:00\", \"Borough\": \"Bronx\", \"Waterborne_Illness\": 7, \"Water_Quality\": 556}, {\"Year\": \"2010-01-01T00:00:00\", \"Borough\": \"Brooklyn\", \"Waterborne_Illness\": 28, \"Water_Quality\": 1783}, {\"Year\": \"2010-01-01T00:00:00\", \"Borough\": \"Manhattan\", \"Waterborne_Illness\": 17, \"Water_Quality\": 584}, {\"Year\": \"2010-01-01T00:00:00\", \"Borough\": \"Queens\", \"Waterborne_Illness\": 13, \"Water_Quality\": 3525}, {\"Year\": \"2010-01-01T00:00:00\", \"Borough\": \"Staten Island\", \"Waterborne_Illness\": 3, \"Water_Quality\": 1694}, {\"Year\": \"2011-01-01T00:00:00\", \"Borough\": \"Bronx\", \"Waterborne_Illness\": 8, \"Water_Quality\": 682}, {\"Year\": \"2011-01-01T00:00:00\", \"Borough\": \"Brooklyn\", \"Waterborne_Illness\": 6, \"Water_Quality\": 1791}, {\"Year\": \"2011-01-01T00:00:00\", \"Borough\": \"Manhattan\", \"Waterborne_Illness\": 19, \"Water_Quality\": 592}, {\"Year\": \"2011-01-01T00:00:00\", \"Borough\": \"Queens\", \"Waterborne_Illness\": 18, \"Water_Quality\": 3224}, {\"Year\": \"2011-01-01T00:00:00\", \"Borough\": \"Staten Island\", \"Waterborne_Illness\": 3, \"Water_Quality\": 1566}, {\"Year\": \"2012-01-01T00:00:00\", \"Borough\": \"Bronx\", \"Waterborne_Illness\": 18, \"Water_Quality\": 662}, {\"Year\": \"2012-01-01T00:00:00\", \"Borough\": \"Brooklyn\", \"Waterborne_Illness\": 13, \"Water_Quality\": 2212}, {\"Year\": \"2012-01-01T00:00:00\", \"Borough\": \"Manhattan\", \"Waterborne_Illness\": 16, \"Water_Quality\": 734}, {\"Year\": \"2012-01-01T00:00:00\", \"Borough\": \"Queens\", \"Waterborne_Illness\": 17, \"Water_Quality\": 2830}, {\"Year\": \"2012-01-01T00:00:00\", \"Borough\": \"Staten Island\", \"Waterborne_Illness\": 6, \"Water_Quality\": 1929}, {\"Year\": \"2013-01-01T00:00:00\", \"Borough\": \"Bronx\", \"Waterborne_Illness\": 28, \"Water_Quality\": 649}, {\"Year\": \"2013-01-01T00:00:00\", \"Borough\": \"Brooklyn\", \"Waterborne_Illness\": 23, \"Water_Quality\": 1704}, {\"Year\": \"2013-01-01T00:00:00\", \"Borough\": \"Manhattan\", \"Waterborne_Illness\": 26, \"Water_Quality\": 1052}, {\"Year\": \"2013-01-01T00:00:00\", \"Borough\": \"Queens\", \"Waterborne_Illness\": 35, \"Water_Quality\": 2209}, {\"Year\": \"2013-01-01T00:00:00\", \"Borough\": \"Staten Island\", \"Waterborne_Illness\": 5, \"Water_Quality\": 2054}, {\"Year\": \"2014-01-01T00:00:00\", \"Borough\": \"Bronx\", \"Waterborne_Illness\": 26, \"Water_Quality\": 635}, {\"Year\": \"2014-01-01T00:00:00\", \"Borough\": \"Brooklyn\", \"Waterborne_Illness\": 34, \"Water_Quality\": 1695}, {\"Year\": \"2014-01-01T00:00:00\", \"Borough\": \"Manhattan\", \"Waterborne_Illness\": 34, \"Water_Quality\": 826}, {\"Year\": \"2014-01-01T00:00:00\", \"Borough\": \"Queens\", \"Waterborne_Illness\": 29, \"Water_Quality\": 2457}, {\"Year\": \"2014-01-01T00:00:00\", \"Borough\": \"Staten Island\", \"Waterborne_Illness\": 13, \"Water_Quality\": 2313}, {\"Year\": \"2015-01-01T00:00:00\", \"Borough\": \"Bronx\", \"Waterborne_Illness\": 35, \"Water_Quality\": 786}, {\"Year\": \"2015-01-01T00:00:00\", \"Borough\": \"Brooklyn\", \"Waterborne_Illness\": 37, \"Water_Quality\": 2084}, {\"Year\": \"2015-01-01T00:00:00\", \"Borough\": \"Manhattan\", \"Waterborne_Illness\": 33, \"Water_Quality\": 794}, {\"Year\": \"2015-01-01T00:00:00\", \"Borough\": \"Queens\", \"Waterborne_Illness\": 26, \"Water_Quality\": 2958}, {\"Year\": \"2015-01-01T00:00:00\", \"Borough\": \"Staten Island\", \"Waterborne_Illness\": 12, \"Water_Quality\": 1330}, {\"Year\": \"2016-01-01T00:00:00\", \"Borough\": \"Bronx\", \"Waterborne_Illness\": 25, \"Water_Quality\": 829}, {\"Year\": \"2016-01-01T00:00:00\", \"Borough\": \"Brooklyn\", \"Waterborne_Illness\": 38, \"Water_Quality\": 2840}, {\"Year\": \"2016-01-01T00:00:00\", \"Borough\": \"Manhattan\", \"Waterborne_Illness\": 40, \"Water_Quality\": 3073}, {\"Year\": \"2016-01-01T00:00:00\", \"Borough\": \"Queens\", \"Waterborne_Illness\": 33, \"Water_Quality\": 2837}, {\"Year\": \"2016-01-01T00:00:00\", \"Borough\": \"Staten Island\", \"Waterborne_Illness\": 12, \"Water_Quality\": 1929}, {\"Year\": \"2017-01-01T00:00:00\", \"Borough\": \"Bronx\", \"Waterborne_Illness\": 23, \"Water_Quality\": 848}, {\"Year\": \"2017-01-01T00:00:00\", \"Borough\": \"Brooklyn\", \"Waterborne_Illness\": 33, \"Water_Quality\": 4578}, {\"Year\": \"2017-01-01T00:00:00\", \"Borough\": \"Manhattan\", \"Waterborne_Illness\": 27, \"Water_Quality\": 1161}, {\"Year\": \"2017-01-01T00:00:00\", \"Borough\": \"Queens\", \"Waterborne_Illness\": 30, \"Water_Quality\": 3491}, {\"Year\": \"2017-01-01T00:00:00\", \"Borough\": \"Staten Island\", \"Waterborne_Illness\": 7, \"Water_Quality\": 1591}, {\"Year\": \"2018-01-01T00:00:00\", \"Borough\": \"Bronx\", \"Waterborne_Illness\": 19, \"Water_Quality\": 1070}, {\"Year\": \"2018-01-01T00:00:00\", \"Borough\": \"Brooklyn\", \"Waterborne_Illness\": 45, \"Water_Quality\": 2848}, {\"Year\": \"2018-01-01T00:00:00\", \"Borough\": \"Manhattan\", \"Waterborne_Illness\": 32, \"Water_Quality\": 1662}, {\"Year\": \"2018-01-01T00:00:00\", \"Borough\": \"Queens\", \"Waterborne_Illness\": 17, \"Water_Quality\": 3499}, {\"Year\": \"2018-01-01T00:00:00\", \"Borough\": \"Staten Island\", \"Waterborne_Illness\": 6, \"Water_Quality\": 1903}, {\"Year\": \"2019-01-01T00:00:00\", \"Borough\": \"Bronx\", \"Waterborne_Illness\": 21, \"Water_Quality\": 652}, {\"Year\": \"2019-01-01T00:00:00\", \"Borough\": \"Brooklyn\", \"Waterborne_Illness\": 33, \"Water_Quality\": 1915}, {\"Year\": \"2019-01-01T00:00:00\", \"Borough\": \"Manhattan\", \"Waterborne_Illness\": 21, \"Water_Quality\": 749}, {\"Year\": \"2019-01-01T00:00:00\", \"Borough\": \"Queens\", \"Waterborne_Illness\": 21, \"Water_Quality\": 1655}, {\"Year\": \"2019-01-01T00:00:00\", \"Borough\": \"Staten Island\", \"Waterborne_Illness\": 5, \"Water_Quality\": 1069}]}};\n",
       "const opt = {};\n",
       "const type = \"vega-lite\";\n",
       "const id = \"9abf5cfc-223e-4450-8667-c56451b2a9c5\";\n",
       "\n",
       "const output_area = this;\n",
       "\n",
       "require([\"nbextensions/jupyter-vega/index\"], function(vega) {\n",
       "  const target = document.createElement(\"div\");\n",
       "  target.id = id;\n",
       "  target.className = \"vega-embed\";\n",
       "\n",
       "  const style = document.createElement(\"style\");\n",
       "  style.textContent = [\n",
       "    \".vega-embed .error p {\",\n",
       "    \"  color: firebrick;\",\n",
       "    \"  font-size: 14px;\",\n",
       "    \"}\",\n",
       "  ].join(\"\\\\n\");\n",
       "\n",
       "  // element is a jQuery wrapped DOM element inside the output area\n",
       "  // see http://ipython.readthedocs.io/en/stable/api/generated/\\\n",
       "  // IPython.display.html#IPython.display.Javascript.__init__\n",
       "  element[0].appendChild(target);\n",
       "  element[0].appendChild(style);\n",
       "\n",
       "  vega.render(\"#\" + id, spec, type, opt, output_area);\n",
       "}, function (err) {\n",
       "  if (err.requireType !== \"scripterror\") {\n",
       "    throw(err);\n",
       "  }\n",
       "});\n"
      ],
      "text/plain": [
       "<vega.vegalite.VegaLite at 0x25cba0ce788>"
      ]
     },
     "metadata": {
      "jupyter-vega": "#9abf5cfc-223e-4450-8667-c56451b2a9c5"
     },
     "output_type": "display_data"
    },
    {
     "data": {
      "text/plain": []
     },
     "metadata": {},
     "output_type": "display_data"
    },
    {
     "data": {
      "image/png": "[encoded data removed]"
     },
     "metadata": {
      "jupyter-vega": "#9abf5cfc-223e-4450-8667-c56451b2a9c5"
     },
     "output_type": "display_data"
    }
   ],
   "source": [
    "#Must have altair and vega packages installed\n",
    "#Run cell for interactivity\n",
    "import altair as alt\n",
    "alt.renderers.enable('notebook')\n",
    "alt.themes.enable('quartz')\n",
    "\n",
    "click = alt.selection_multi(encodings=['color'])\n",
    "scatter = alt.Chart(data).mark_circle().encode(alt.X('Water_Quality', scale=alt.Scale(zero = False)), y='Waterborne_Illness', color=alt.Color('Borough', legend=None), tooltip=['Borough', 'Water_Quality', 'Waterborne_Illness']).transform_filter(click).properties(title='Relationship between Water Quality and Waterborne Illness').interactive()\n",
    "legend = alt.Chart(data).mark_rect().encode(y=alt.Y('Borough', axis=alt.Axis(title='Select Borough')), color=alt.condition(click, 'Borough', alt.value('lightgray'), legend=None)).properties(selection=click)\n",
    "chart = scatter | legend\n",
    "chart.display() #Downloadable as SVG and PNG"
   ]
  },
  {
   "cell_type": "markdown",
   "metadata": {},
   "source": [
    "### Models\n",
    "I chose to run two regression models, a standard OLS regression model with Waterborne Illness equal to Water Quality and a PLM regression model with Waterborne Illness equal to Water Quality plus time and entity fixed effects.\n",
    "\n",
    "These models were chosen because I wanted to determine if the year and borough would have an effect on the model. To do this, I compared the R-squared values of both models, the model with the higher R-squared value is the better model as it explains the most variance of Waterborne Illness."
   ]
  },
  {
   "cell_type": "code",
   "execution_count": 5,
   "metadata": {},
   "outputs": [
    {
     "data": {
      "text/html": [
       "<table class=\"simpletable\">\n",
       "<caption>OLS Regression Results</caption>\n",
       "<tr>\n",
       "  <th>Dep. Variable:</th>    <td>Waterborne_Illness</td> <th>  R-squared:         </th> <td>   0.043</td>\n",
       "</tr>\n",
       "<tr>\n",
       "  <th>Model:</th>                    <td>OLS</td>        <th>  Adj. R-squared:    </th> <td>   0.023</td>\n",
       "</tr>\n",
       "<tr>\n",
       "  <th>Method:</th>              <td>Least Squares</td>   <th>  F-statistic:       </th> <td>   2.157</td>\n",
       "</tr>\n",
       "<tr>\n",
       "  <th>Date:</th>              <td>Sun, 01 Mar 2020</td>  <th>  Prob (F-statistic):</th>  <td> 0.148</td> \n",
       "</tr>\n",
       "<tr>\n",
       "  <th>Time:</th>                  <td>18:37:54</td>      <th>  Log-Likelihood:    </th> <td> -190.04</td>\n",
       "</tr>\n",
       "<tr>\n",
       "  <th>No. Observations:</th>       <td>    50</td>       <th>  AIC:               </th> <td>   384.1</td>\n",
       "</tr>\n",
       "<tr>\n",
       "  <th>Df Residuals:</th>           <td>    48</td>       <th>  BIC:               </th> <td>   387.9</td>\n",
       "</tr>\n",
       "<tr>\n",
       "  <th>Df Model:</th>               <td>     1</td>       <th>                     </th>     <td> </td>   \n",
       "</tr>\n",
       "<tr>\n",
       "  <th>Covariance Type:</th>       <td>nonrobust</td>     <th>                     </th>     <td> </td>   \n",
       "</tr>\n",
       "</table>\n",
       "<table class=\"simpletable\">\n",
       "<tr>\n",
       "        <td></td>           <th>coef</th>     <th>std err</th>      <th>t</th>      <th>P>|t|</th>  <th>[0.025</th>    <th>0.975]</th>  \n",
       "</tr>\n",
       "<tr>\n",
       "  <th>Intercept</th>     <td>   17.3682</td> <td>    3.230</td> <td>    5.378</td> <td> 0.000</td> <td>   10.875</td> <td>   23.862</td>\n",
       "</tr>\n",
       "<tr>\n",
       "  <th>Water_Quality</th> <td>    0.0024</td> <td>    0.002</td> <td>    1.469</td> <td> 0.148</td> <td>   -0.001</td> <td>    0.006</td>\n",
       "</tr>\n",
       "</table>\n",
       "<table class=\"simpletable\">\n",
       "<tr>\n",
       "  <th>Omnibus:</th>       <td>10.121</td> <th>  Durbin-Watson:     </th> <td>   1.387</td>\n",
       "</tr>\n",
       "<tr>\n",
       "  <th>Prob(Omnibus):</th> <td> 0.006</td> <th>  Jarque-Bera (JB):  </th> <td>   2.888</td>\n",
       "</tr>\n",
       "<tr>\n",
       "  <th>Skew:</th>          <td>-0.103</td> <th>  Prob(JB):          </th> <td>   0.236</td>\n",
       "</tr>\n",
       "<tr>\n",
       "  <th>Kurtosis:</th>      <td> 1.841</td> <th>  Cond. No.          </th> <td>4.16e+03</td>\n",
       "</tr>\n",
       "</table><br/><br/>Warnings:<br/>[1] Standard Errors assume that the covariance matrix of the errors is correctly specified.<br/>[2] The condition number is large, 4.16e+03. This might indicate that there are<br/>strong multicollinearity or other numerical problems."
      ],
      "text/plain": [
       "<class 'statsmodels.iolib.summary.Summary'>\n",
       "\"\"\"\n",
       "                            OLS Regression Results                            \n",
       "==============================================================================\n",
       "Dep. Variable:     Waterborne_Illness   R-squared:                       0.043\n",
       "Model:                            OLS   Adj. R-squared:                  0.023\n",
       "Method:                 Least Squares   F-statistic:                     2.157\n",
       "Date:                Sun, 01 Mar 2020   Prob (F-statistic):              0.148\n",
       "Time:                        18:37:54   Log-Likelihood:                -190.04\n",
       "No. Observations:                  50   AIC:                             384.1\n",
       "Df Residuals:                      48   BIC:                             387.9\n",
       "Df Model:                           1                                         \n",
       "Covariance Type:            nonrobust                                         \n",
       "=================================================================================\n",
       "                    coef    std err          t      P>|t|      [0.025      0.975]\n",
       "---------------------------------------------------------------------------------\n",
       "Intercept        17.3682      3.230      5.378      0.000      10.875      23.862\n",
       "Water_Quality     0.0024      0.002      1.469      0.148      -0.001       0.006\n",
       "==============================================================================\n",
       "Omnibus:                       10.121   Durbin-Watson:                   1.387\n",
       "Prob(Omnibus):                  0.006   Jarque-Bera (JB):                2.888\n",
       "Skew:                          -0.103   Prob(JB):                        0.236\n",
       "Kurtosis:                       1.841   Cond. No.                     4.16e+03\n",
       "==============================================================================\n",
       "\n",
       "Warnings:\n",
       "[1] Standard Errors assume that the covariance matrix of the errors is correctly specified.\n",
       "[2] The condition number is large, 4.16e+03. This might indicate that there are\n",
       "strong multicollinearity or other numerical problems.\n",
       "\"\"\""
      ]
     },
     "execution_count": 5,
     "metadata": {},
     "output_type": "execute_result"
    }
   ],
   "source": [
    "result = sm.ols(formula = \"Waterborne_Illness ~ Water_Quality\", data = data, missing = 'drop').fit()\n",
    "result.summary()"
   ]
  },
  {
   "cell_type": "markdown",
   "metadata": {},
   "source": [
    "Although the coefficient on the Intercept is significant at the 1% level, the coefficient on Water Quality is only significant at the 15% level. The model also has a low R-squared value meaning that only 4.3% of the variance of Waterborne Illness is explained by Water Quality."
   ]
  },
  {
   "cell_type": "code",
   "execution_count": 6,
   "metadata": {},
   "outputs": [
    {
     "data": {
      "text/plain": [
       "<matplotlib.axes._subplots.AxesSubplot at 0x25cba16c108>"
      ]
     },
     "execution_count": 6,
     "metadata": {},
     "output_type": "execute_result"
    },
    {
     "data": {
      "image/png": "[encoded data removed]",
      "text/plain": [
       "<Figure size 432x288 with 1 Axes>"
      ]
     },
     "metadata": {
      "needs_background": "light"
     },
     "output_type": "display_data"
    }
   ],
   "source": [
    "sns.regplot(x = 'Water_Quality', y = 'Waterborne_Illness', color = 'teal', data = data, marker = 'o')"
   ]
  },
  {
   "cell_type": "code",
   "execution_count": 7,
   "metadata": {},
   "outputs": [
    {
     "data": {
      "text/html": [
       "<table class=\"simpletable\">\n",
       "<caption>OLS Regression Results</caption>\n",
       "<tr>\n",
       "  <th>Dep. Variable:</th>    <td>Waterborne_Illness</td> <th>  R-squared:         </th> <td>   0.809</td>\n",
       "</tr>\n",
       "<tr>\n",
       "  <th>Model:</th>                    <td>OLS</td>        <th>  Adj. R-squared:    </th> <td>   0.733</td>\n",
       "</tr>\n",
       "<tr>\n",
       "  <th>Method:</th>              <td>Least Squares</td>   <th>  F-statistic:       </th> <td>   10.60</td>\n",
       "</tr>\n",
       "<tr>\n",
       "  <th>Date:</th>              <td>Sun, 01 Mar 2020</td>  <th>  Prob (F-statistic):</th> <td>9.16e-09</td>\n",
       "</tr>\n",
       "<tr>\n",
       "  <th>Time:</th>                  <td>18:37:54</td>      <th>  Log-Likelihood:    </th> <td> -149.73</td>\n",
       "</tr>\n",
       "<tr>\n",
       "  <th>No. Observations:</th>       <td>    50</td>       <th>  AIC:               </th> <td>   329.5</td>\n",
       "</tr>\n",
       "<tr>\n",
       "  <th>Df Residuals:</th>           <td>    35</td>       <th>  BIC:               </th> <td>   358.1</td>\n",
       "</tr>\n",
       "<tr>\n",
       "  <th>Df Model:</th>               <td>    14</td>       <th>                     </th>     <td> </td>   \n",
       "</tr>\n",
       "<tr>\n",
       "  <th>Covariance Type:</th>       <td>nonrobust</td>     <th>                     </th>     <td> </td>   \n",
       "</tr>\n",
       "</table>\n",
       "<table class=\"simpletable\">\n",
       "<tr>\n",
       "                       <td></td>                          <th>coef</th>     <th>std err</th>      <th>t</th>      <th>P>|t|</th>  <th>[0.025</th>    <th>0.975]</th>  \n",
       "</tr>\n",
       "<tr>\n",
       "  <th>Intercept</th>                                   <td>   11.8598</td> <td>    3.237</td> <td>    3.664</td> <td> 0.001</td> <td>    5.289</td> <td>   18.431</td>\n",
       "</tr>\n",
       "<tr>\n",
       "  <th>C(Year)[T.Timestamp('2011-01-01 00:00:00')]</th> <td>   -2.6839</td> <td>    3.656</td> <td>   -0.734</td> <td> 0.468</td> <td>  -10.105</td> <td>    4.738</td>\n",
       "</tr>\n",
       "<tr>\n",
       "  <th>C(Year)[T.Timestamp('2012-01-01 00:00:00')]</th> <td>    0.3090</td> <td>    3.655</td> <td>    0.085</td> <td> 0.933</td> <td>   -7.112</td> <td>    7.729</td>\n",
       "</tr>\n",
       "<tr>\n",
       "  <th>C(Year)[T.Timestamp('2013-01-01 00:00:00')]</th> <td>    9.9918</td> <td>    3.658</td> <td>    2.731</td> <td> 0.010</td> <td>    2.565</td> <td>   17.418</td>\n",
       "</tr>\n",
       "<tr>\n",
       "  <th>C(Year)[T.Timestamp('2014-01-01 00:00:00')]</th> <td>   13.6874</td> <td>    3.655</td> <td>    3.745</td> <td> 0.001</td> <td>    6.267</td> <td>   21.108</td>\n",
       "</tr>\n",
       "<tr>\n",
       "  <th>C(Year)[T.Timestamp('2015-01-01 00:00:00')]</th> <td>   15.0769</td> <td>    3.655</td> <td>    4.125</td> <td> 0.000</td> <td>    7.657</td> <td>   22.497</td>\n",
       "</tr>\n",
       "<tr>\n",
       "  <th>C(Year)[T.Timestamp('2016-01-01 00:00:00')]</th> <td>   14.6380</td> <td>    3.842</td> <td>    3.810</td> <td> 0.001</td> <td>    6.838</td> <td>   22.438</td>\n",
       "</tr>\n",
       "<tr>\n",
       "  <th>C(Year)[T.Timestamp('2017-01-01 00:00:00')]</th> <td>    8.9728</td> <td>    3.860</td> <td>    2.325</td> <td> 0.026</td> <td>    1.137</td> <td>   16.809</td>\n",
       "</tr>\n",
       "<tr>\n",
       "  <th>C(Year)[T.Timestamp('2018-01-01 00:00:00')]</th> <td>    9.0508</td> <td>    3.789</td> <td>    2.389</td> <td> 0.022</td> <td>    1.359</td> <td>   16.743</td>\n",
       "</tr>\n",
       "<tr>\n",
       "  <th>C(Year)[T.Timestamp('2019-01-01 00:00:00')]</th> <td>    7.4505</td> <td>    3.729</td> <td>    1.998</td> <td> 0.054</td> <td>   -0.119</td> <td>   15.020</td>\n",
       "</tr>\n",
       "<tr>\n",
       "  <th>C(Borough)[T.Brooklyn]</th>                      <td>    4.7465</td> <td>    3.835</td> <td>    1.238</td> <td> 0.224</td> <td>   -3.038</td> <td>   12.531</td>\n",
       "</tr>\n",
       "<tr>\n",
       "  <th>C(Borough)[T.Manhattan]</th>                     <td>    4.7195</td> <td>    2.672</td> <td>    1.766</td> <td> 0.086</td> <td>   -0.705</td> <td>   10.144</td>\n",
       "</tr>\n",
       "<tr>\n",
       "  <th>C(Borough)[T.Queens]</th>                        <td>   -1.4126</td> <td>    4.559</td> <td>   -0.310</td> <td> 0.758</td> <td>  -10.667</td> <td>    7.842</td>\n",
       "</tr>\n",
       "<tr>\n",
       "  <th>C(Borough)[T.Staten Island]</th>                 <td>  -15.8250</td> <td>    3.128</td> <td>   -5.059</td> <td> 0.000</td> <td>  -22.176</td> <td>   -9.474</td>\n",
       "</tr>\n",
       "<tr>\n",
       "  <th>Water_Quality</th>                               <td>    0.0020</td> <td>    0.002</td> <td>    1.148</td> <td> 0.259</td> <td>   -0.002</td> <td>    0.006</td>\n",
       "</tr>\n",
       "</table>\n",
       "<table class=\"simpletable\">\n",
       "<tr>\n",
       "  <th>Omnibus:</th>       <td> 1.395</td> <th>  Durbin-Watson:     </th> <td>   2.183</td>\n",
       "</tr>\n",
       "<tr>\n",
       "  <th>Prob(Omnibus):</th> <td> 0.498</td> <th>  Jarque-Bera (JB):  </th> <td>   0.650</td>\n",
       "</tr>\n",
       "<tr>\n",
       "  <th>Skew:</th>          <td> 0.187</td> <th>  Prob(JB):          </th> <td>   0.722</td>\n",
       "</tr>\n",
       "<tr>\n",
       "  <th>Kurtosis:</th>      <td> 3.415</td> <th>  Cond. No.          </th> <td>2.12e+04</td>\n",
       "</tr>\n",
       "</table><br/><br/>Warnings:<br/>[1] Standard Errors assume that the covariance matrix of the errors is correctly specified.<br/>[2] The condition number is large, 2.12e+04. This might indicate that there are<br/>strong multicollinearity or other numerical problems."
      ],
      "text/plain": [
       "<class 'statsmodels.iolib.summary.Summary'>\n",
       "\"\"\"\n",
       "                            OLS Regression Results                            \n",
       "==============================================================================\n",
       "Dep. Variable:     Waterborne_Illness   R-squared:                       0.809\n",
       "Model:                            OLS   Adj. R-squared:                  0.733\n",
       "Method:                 Least Squares   F-statistic:                     10.60\n",
       "Date:                Sun, 01 Mar 2020   Prob (F-statistic):           9.16e-09\n",
       "Time:                        18:37:54   Log-Likelihood:                -149.73\n",
       "No. Observations:                  50   AIC:                             329.5\n",
       "Df Residuals:                      35   BIC:                             358.1\n",
       "Df Model:                          14                                         \n",
       "Covariance Type:            nonrobust                                         \n",
       "===============================================================================================================\n",
       "                                                  coef    std err          t      P>|t|      [0.025      0.975]\n",
       "---------------------------------------------------------------------------------------------------------------\n",
       "Intercept                                      11.8598      3.237      3.664      0.001       5.289      18.431\n",
       "C(Year)[T.Timestamp('2011-01-01 00:00:00')]    -2.6839      3.656     -0.734      0.468     -10.105       4.738\n",
       "C(Year)[T.Timestamp('2012-01-01 00:00:00')]     0.3090      3.655      0.085      0.933      -7.112       7.729\n",
       "C(Year)[T.Timestamp('2013-01-01 00:00:00')]     9.9918      3.658      2.731      0.010       2.565      17.418\n",
       "C(Year)[T.Timestamp('2014-01-01 00:00:00')]    13.6874      3.655      3.745      0.001       6.267      21.108\n",
       "C(Year)[T.Timestamp('2015-01-01 00:00:00')]    15.0769      3.655      4.125      0.000       7.657      22.497\n",
       "C(Year)[T.Timestamp('2016-01-01 00:00:00')]    14.6380      3.842      3.810      0.001       6.838      22.438\n",
       "C(Year)[T.Timestamp('2017-01-01 00:00:00')]     8.9728      3.860      2.325      0.026       1.137      16.809\n",
       "C(Year)[T.Timestamp('2018-01-01 00:00:00')]     9.0508      3.789      2.389      0.022       1.359      16.743\n",
       "C(Year)[T.Timestamp('2019-01-01 00:00:00')]     7.4505      3.729      1.998      0.054      -0.119      15.020\n",
       "C(Borough)[T.Brooklyn]                          4.7465      3.835      1.238      0.224      -3.038      12.531\n",
       "C(Borough)[T.Manhattan]                         4.7195      2.672      1.766      0.086      -0.705      10.144\n",
       "C(Borough)[T.Queens]                           -1.4126      4.559     -0.310      0.758     -10.667       7.842\n",
       "C(Borough)[T.Staten Island]                   -15.8250      3.128     -5.059      0.000     -22.176      -9.474\n",
       "Water_Quality                                   0.0020      0.002      1.148      0.259      -0.002       0.006\n",
       "==============================================================================\n",
       "Omnibus:                        1.395   Durbin-Watson:                   2.183\n",
       "Prob(Omnibus):                  0.498   Jarque-Bera (JB):                0.650\n",
       "Skew:                           0.187   Prob(JB):                        0.722\n",
       "Kurtosis:                       3.415   Cond. No.                     2.12e+04\n",
       "==============================================================================\n",
       "\n",
       "Warnings:\n",
       "[1] Standard Errors assume that the covariance matrix of the errors is correctly specified.\n",
       "[2] The condition number is large, 2.12e+04. This might indicate that there are\n",
       "strong multicollinearity or other numerical problems.\n",
       "\"\"\""
      ]
     },
     "execution_count": 7,
     "metadata": {},
     "output_type": "execute_result"
    }
   ],
   "source": [
    "result2 = sm.ols(formula = \"Waterborne_Illness ~ Water_Quality + C(Year) + C(Borough)\", data = data, missing = 'drop').fit()\n",
    "#The generation of the dummy variables for year and borough make the model equivalent to a PLM model even though OLS is used\n",
    "result2.summary() "
   ]
  },
  {
   "cell_type": "markdown",
   "metadata": {},
   "source": [
    "Although the coefficient on the Intercept is significant at the 1% level, the coefficient on Water Quality is not significant as it has a high p-value. The model  has a high R-squared value meaning that 80.9% of the variance of Waterborne Illness is explained by Water Quality."
   ]
  }
 ],
 "metadata": {
  "kernelspec": {
   "display_name": "Python 3",
   "language": "python",
   "name": "python3"
  },
  "language_info": {
   "codemirror_mode": {
    "name": "ipython",
    "version": 3
   },
   "file_extension": ".py",
   "mimetype": "text/x-python",
   "name": "python",
   "nbconvert_exporter": "python",
   "pygments_lexer": "ipython3",
   "version": "3.7.6"
  }
 },
 "nbformat": 4,
 "nbformat_minor": 4
}
